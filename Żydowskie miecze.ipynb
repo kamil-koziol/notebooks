{
 "cells": [
  {
   "cell_type": "code",
   "execution_count": 41,
   "id": "aerial-strip",
   "metadata": {
    "tags": []
   },
   "outputs": [],
   "source": [
    "from math import log2\n",
    "\n",
    "def zydowskieMiecze(n: int) -> int:\n",
    "    osoby = [[i + 1, 1] for i in range(n)]\n",
    "    while len(osoby) > 1:\n",
    "        for i in range(len(osoby)):\n",
    "            if osoby[i][1] == 1:\n",
    "                osoba_do_zabicia = (i + 1) % len(osoby)\n",
    "                osoby[osoba_do_zabicia][1] = 0 \n",
    "            else:\n",
    "                continue\n",
    "\n",
    "        osoby = list(filter(lambda x: x[1] == 1, osoby))\n",
    "    \n",
    "    return osoby[0][0]\n",
    "\n",
    "def zydowskieMiecze2(n: int) -> int:\n",
    "    return 1 + 2* (n - 2**int(log2(n)))"
   ]
  },
  {
   "cell_type": "code",
   "execution_count": 52,
   "id": "excess-transparency",
   "metadata": {},
   "outputs": [
    {
     "name": "stdout",
     "output_type": "stream",
     "text": [
      "459 µs ± 2.46 µs per loop (mean ± std. dev. of 7 runs, 1000 loops each)\n"
     ]
    }
   ],
   "source": [
    "%%timeit\n",
    "for i in range(1, 1000):\n",
    "    zydowskieMiecze2(i)"
   ]
  },
  {
   "cell_type": "code",
   "execution_count": 53,
   "id": "comparable-locator",
   "metadata": {},
   "outputs": [
    {
     "name": "stdout",
     "output_type": "stream",
     "text": [
      "222 ms ± 1.55 ms per loop (mean ± std. dev. of 7 runs, 1 loop each)\n"
     ]
    }
   ],
   "source": [
    "%%timeit\n",
    "for i in range(1, 1000):\n",
    "    zydowskieMiecze(i)"
   ]
  }
 ],
 "metadata": {
  "kernelspec": {
   "display_name": "Python 3",
   "language": "python",
   "name": "python3"
  },
  "language_info": {
   "codemirror_mode": {
    "name": "ipython",
    "version": 3
   },
   "file_extension": ".py",
   "mimetype": "text/x-python",
   "name": "python",
   "nbconvert_exporter": "python",
   "pygments_lexer": "ipython3",
   "version": "3.9.2"
  }
 },
 "nbformat": 4,
 "nbformat_minor": 5
}