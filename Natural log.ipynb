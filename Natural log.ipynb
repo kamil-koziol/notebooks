{
 "cells": [
  {
   "cell_type": "code",
   "execution_count": 1,
   "id": "constitutional-lloyd",
   "metadata": {},
   "outputs": [],
   "source": [
    "import math"
   ]
  },
  {
   "cell_type": "code",
   "execution_count": 3,
   "id": "characteristic-senator",
   "metadata": {
    "tags": []
   },
   "outputs": [],
   "source": [
    "def ln(n: int):\n",
    "    x = math.e ** (1/(2**12)) - 1\n",
    "    y = n ** (1/(2**12)) - 1\n",
    "    return y/x"
   ]
  },
  {
   "cell_type": "code",
   "execution_count": 4,
   "id": "respected-yorkshire",
   "metadata": {},
   "outputs": [
    {
     "name": "stdout",
     "output_type": "stream",
     "text": [
      "4.607197526096735 4.605170185988092\n"
     ]
    }
   ],
   "source": [
    "print(ln(100), math.log(100))"
   ]
  }
 ],
 "metadata": {
  "kernelspec": {
   "display_name": "Python 3",
   "language": "python",
   "name": "python3"
  },
  "language_info": {
   "codemirror_mode": {
    "name": "ipython",
    "version": 3
   },
   "file_extension": ".py",
   "mimetype": "text/x-python",
   "name": "python",
   "nbconvert_exporter": "python",
   "pygments_lexer": "ipython3",
   "version": "3.9.5"
  },
  "metadata": {
   "interpreter": {
    "hash": "aee8b7b246df8f9039afb4144a1f6fd8d2ca17a180786b69acc140d282b71a49"
   }
  }
 },
 "nbformat": 4,
 "nbformat_minor": 5
}
