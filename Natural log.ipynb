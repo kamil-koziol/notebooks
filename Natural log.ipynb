{
 "cells": [
  {
   "cell_type": "code",
   "execution_count": 1,
   "id": "selective-klein",
   "metadata": {},
   "outputs": [],
   "source": [
    "import math"
   ]
  },
  {
   "cell_type": "code",
   "execution_count": 3,
   "id": "broke-member",
   "metadata": {
    "tags": []
   },
   "outputs": [],
   "source": [
    "def ln(n: int):\n",
    "    x = math.e ** (1/(2**12)) - 1\n",
    "    y = n ** (1/(2**12)) - 1\n",
    "    return y/x"
   ]
  },
  {
   "cell_type": "code",
   "execution_count": 4,
   "id": "interim-credit",
   "metadata": {},
   "outputs": [
    {
     "output_type": "stream",
     "name": "stdout",
     "text": [
      "4.607197526096735 4.605170185988092\n"
     ]
    }
   ],
   "source": [
    "print(ln(100), math.log(100))"
   ]
  }
 ],
 "metadata": {
  "kernelspec": {
   "name": "python392jvsc74a57bd0aee8b7b246df8f9039afb4144a1f6fd8d2ca17a180786b69acc140d282b71a49",
   "display_name": "Python 3.9.2 64-bit"
  },
  "language_info": {
   "codemirror_mode": {
    "name": "ipython",
    "version": 3
   },
   "file_extension": ".py",
   "mimetype": "text/x-python",
   "name": "python",
   "nbconvert_exporter": "python",
   "pygments_lexer": "ipython3",
   "version": "3.9.2"
  },
  "metadata": {
   "interpreter": {
    "hash": "aee8b7b246df8f9039afb4144a1f6fd8d2ca17a180786b69acc140d282b71a49"
   }
  }
 },
 "nbformat": 4,
 "nbformat_minor": 5
}