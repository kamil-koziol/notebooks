{
 "cells": [
  {
   "cell_type": "code",
   "execution_count": 43,
   "id": "documentary-chaos",
   "metadata": {},
   "outputs": [],
   "source": [
    "from typing import List\n",
    "from random import randint"
   ]
  },
  {
   "cell_type": "code",
   "execution_count": 44,
   "id": "functional-pilot",
   "metadata": {},
   "outputs": [],
   "source": [
    "class Przedmiot:\n",
    "    def __init__(self, waga, cena):\n",
    "        self.waga = waga\n",
    "        self.cena = cena\n",
    "        self.stosunek = cena/waga\n",
    "    \n",
    "    def __repr__(self):\n",
    "        return f\"Przedmiot({self.waga},{self.cena})\""
   ]
  },
  {
   "cell_type": "code",
   "execution_count": 45,
   "id": "satisfactory-haiti",
   "metadata": {},
   "outputs": [
    {
     "name": "stdout",
     "output_type": "stream",
     "text": [
      "[Przedmiot(4,15), Przedmiot(7,15), Przedmiot(6,10), Przedmiot(13,18), Przedmiot(7,9), Przedmiot(18,11), Przedmiot(10,6), Przedmiot(5,2), Przedmiot(11,4), Przedmiot(16,5)]\n"
     ]
    }
   ],
   "source": [
    "przedmioty: List[Przedmiot] = []\n",
    "for i in range(10):\n",
    "    przedmioty.append(Przedmiot(randint(1, 20), randint(1, 20)))\n",
    "    \n",
    "przedmioty.sort(key=lambda x: x.stosunek, reverse=True)\n",
    "\n",
    "print(przedmioty)"
   ]
  },
  {
   "cell_type": "code",
   "execution_count": 46,
   "id": "spanish-device",
   "metadata": {},
   "outputs": [
    {
     "name": "stdout",
     "output_type": "stream",
     "text": [
      "[Przedmiot(4,15), Przedmiot(7,15), Przedmiot(6,10), Przedmiot(13,18), Przedmiot(7,9), Przedmiot(10,6)]\n"
     ]
    }
   ],
   "source": [
    "pojemnosc_plecaka = 50\n",
    "wybrane_przedmioty = []\n",
    "\n",
    "for p in przedmioty:\n",
    "    if pojemnosc_plecaka == 0:\n",
    "        break\n",
    "        \n",
    "    if pojemnosc_plecaka - p.waga > 0:\n",
    "        pojemnosc_plecaka -= p.waga\n",
    "        wybrane_przedmioty.append(p)\n",
    "\n",
    "\n",
    "print(wybrane_przedmioty)"
   ]
  }
 ],
 "metadata": {
  "kernelspec": {
   "display_name": "Python 3",
   "language": "python",
   "name": "python3"
  },
  "language_info": {
   "codemirror_mode": {
    "name": "ipython",
    "version": 3
   },
   "file_extension": ".py",
   "mimetype": "text/x-python",
   "name": "python",
   "nbconvert_exporter": "python",
   "pygments_lexer": "ipython3",
   "version": "3.9.5"
  }
 },
 "nbformat": 4,
 "nbformat_minor": 5
}
