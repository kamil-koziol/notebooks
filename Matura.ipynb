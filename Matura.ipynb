{
 "cells": [
  {
   "cell_type": "markdown",
   "id": "specialized-scotland",
   "metadata": {},
   "source": [
    "# Przydatne rzeczy"
   ]
  },
  {
   "cell_type": "markdown",
   "id": "korean-theta",
   "metadata": {},
   "source": [
    "### Zliczanie obiektów w liście"
   ]
  },
  {
   "cell_type": "code",
   "execution_count": 1,
   "id": "fleet-asset",
   "metadata": {},
   "outputs": [
    {
     "name": "stdout",
     "output_type": "stream",
     "text": [
      "{1: 1, 2: 1, 3: 1, 4: 1, 5: 1, 6: 1, 7: 1, 8: 1, 9: 1, 10: 1}\n"
     ]
    }
   ],
   "source": [
    "liczby = [1, 2, 3, 4, 5, 6, 7, 8, 9, 10]\n",
    "zliczacz = {}\n",
    "\n",
    "for liczba in liczby:\n",
    "    if zliczacz.get(liczba):\n",
    "        zliczacz[liczba] += 1\n",
    "    else:\n",
    "        zliczacz[liczba] = 1\n",
    "\n",
    "print(zliczacz)"
   ]
  },
  {
   "cell_type": "markdown",
   "id": "charitable-arctic",
   "metadata": {},
   "source": [
    "### Dzielniki liczby"
   ]
  },
  {
   "cell_type": "code",
   "execution_count": 4,
   "id": "italic-certificate",
   "metadata": {},
   "outputs": [
    {
     "name": "stdout",
     "output_type": "stream",
     "text": [
      "[1, 2, 3, 4, 5, 6, 7, 8, 9, 10, 12, 14, 15, 16, 18, 20, 21, 24, 28, 30, 35, 36, 40, 42, 45, 48, 56, 60, 63, 70, 72, 80, 84, 90, 105, 112, 120, 126, 140, 144, 168, 180, 210, 240, 252, 280, 315, 336, 360, 420, 504, 560, 630, 720, 840, 1008, 1260, 1680, 2520, 5040]\n"
     ]
    }
   ],
   "source": [
    "def dzielniki(n):\n",
    "    d = []\n",
    "    for i in range(1, (n // 2) + 1):\n",
    "        if n % i == 0:\n",
    "            d.append(i)\n",
    "    d.append(n)\n",
    "    \n",
    "    return d\n",
    "\n",
    "print(dzielniki(5040))"
   ]
  },
  {
   "cell_type": "markdown",
   "id": "convenient-devon",
   "metadata": {},
   "source": [
    "### Liczby pierwsze"
   ]
  },
  {
   "cell_type": "code",
   "execution_count": 7,
   "id": "infectious-quantum",
   "metadata": {},
   "outputs": [
    {
     "name": "stdout",
     "output_type": "stream",
     "text": [
      "False\n",
      "True\n"
     ]
    }
   ],
   "source": [
    "import math\n",
    "\n",
    "def isPrime(n: int):\n",
    "\n",
    "    if n == 2:\n",
    "        return True\n",
    "\n",
    "    if n%2 == 0:\n",
    "        return False\n",
    "    \n",
    "    if n <= 1:\n",
    "        return False\n",
    "    \n",
    "    for i in range(3, int(math.sqrt(n)) + 1, 2):\n",
    "        if n%i == 0:\n",
    "            return False\n",
    "    return True\n",
    "\n",
    "print(isPrime(21))\n",
    "print(isPrime(23))"
   ]
  },
  {
   "cell_type": "markdown",
   "id": "greater-chosen",
   "metadata": {},
   "source": [
    "### Cyfry liczby"
   ]
  },
  {
   "cell_type": "code",
   "execution_count": 13,
   "id": "driven-yacht",
   "metadata": {},
   "outputs": [
    {
     "name": "stdout",
     "output_type": "stream",
     "text": [
      "[1, 2, 3, 4, 5]\n"
     ]
    }
   ],
   "source": [
    "def cyfry(n: int):\n",
    "    c = []\n",
    "    while n >= 1:\n",
    "        c.append(n%10)\n",
    "        n //= 10\n",
    "    \n",
    "    return c[::-1]\n",
    "\n",
    "print(cyfry(12345))"
   ]
  },
  {
   "cell_type": "markdown",
   "id": "laughing-serve",
   "metadata": {},
   "source": [
    "### Liczby binarnie i w dowolnym systemie"
   ]
  },
  {
   "cell_type": "code",
   "execution_count": 22,
   "id": "several-strand",
   "metadata": {},
   "outputs": [
    {
     "name": "stdout",
     "output_type": "stream",
     "text": [
      "[1, 1, 1, 1, 0, 0, 1]\n"
     ]
    }
   ],
   "source": [
    "def binarnie(n: int):\n",
    "    binary = []\n",
    "    \n",
    "    if n == 0:\n",
    "        binary.append(0)\n",
    "        \n",
    "    while n >= 1:\n",
    "        binary.append(n%2)\n",
    "        n //= 2\n",
    "    \n",
    "    return binary[::-1]\n",
    "\n",
    "print(binarnie(121))"
   ]
  },
  {
   "cell_type": "code",
   "execution_count": 25,
   "id": "excellent-resident",
   "metadata": {},
   "outputs": [
    {
     "name": "stdout",
     "output_type": "stream",
     "text": [
      "[3, 0]\n"
     ]
    }
   ],
   "source": [
    "def system(n: int, k: int):\n",
    "    s = []\n",
    "    \n",
    "    if n == 0:\n",
    "        s.append(0)\n",
    "        \n",
    "    while n >= 1:\n",
    "        s.append(n%k)\n",
    "        n //= k\n",
    "    \n",
    "    return s[::-1]\n",
    "\n",
    "print(system(12, 4))"
   ]
  },
  {
   "cell_type": "markdown",
   "id": "portable-stone",
   "metadata": {},
   "source": [
    "### NWW"
   ]
  },
  {
   "cell_type": "code",
   "execution_count": 27,
   "id": "collective-cookbook",
   "metadata": {},
   "outputs": [
    {
     "name": "stdout",
     "output_type": "stream",
     "text": [
      "90\n"
     ]
    }
   ],
   "source": [
    "def nww(a: int, b: int):\n",
    "    sA = a\n",
    "    sB = b\n",
    "    while a != b:\n",
    "        if a < b:\n",
    "            a += sA\n",
    "        if a > b:\n",
    "            b += sB\n",
    "    return a\n",
    "\n",
    "print(nww(15, 18))"
   ]
  },
  {
   "cell_type": "markdown",
   "id": "peaceful-copper",
   "metadata": {},
   "source": [
    "### NWD"
   ]
  },
  {
   "cell_type": "code",
   "execution_count": 30,
   "id": "governing-jewelry",
   "metadata": {},
   "outputs": [
    {
     "name": "stdout",
     "output_type": "stream",
     "text": [
      "16\n"
     ]
    }
   ],
   "source": [
    "def nwd(a, b):\n",
    "    while b:\n",
    "        a, b = b, a%b\n",
    "    return a\n",
    "\n",
    "print(nwd(5040, 32))"
   ]
  },
  {
   "cell_type": "markdown",
   "id": "suitable-carolina",
   "metadata": {},
   "source": [
    "### Rozkład liczby na czynniki pierwsze"
   ]
  },
  {
   "cell_type": "code",
   "execution_count": 36,
   "id": "ecological-craps",
   "metadata": {},
   "outputs": [
    {
     "name": "stdout",
     "output_type": "stream",
     "text": [
      "[2, 2, 2, 2, 3, 3, 5, 7]\n"
     ]
    }
   ],
   "source": [
    "def rozklad(n: int):\n",
    "    czynniki = []\n",
    "    k = 2\n",
    "    \n",
    "    while n > 1:\n",
    "        while n % k == 0:\n",
    "            czynniki.append(k)\n",
    "            n //= k\n",
    "        k += 1\n",
    "        \n",
    "    return czynniki\n",
    "\n",
    "print(rozklad(5040))"
   ]
  },
  {
   "cell_type": "markdown",
   "id": "driven-dress",
   "metadata": {},
   "source": [
    "### Silnia"
   ]
  },
  {
   "cell_type": "code",
   "execution_count": 37,
   "id": "casual-transsexual",
   "metadata": {},
   "outputs": [
    {
     "name": "stdout",
     "output_type": "stream",
     "text": [
      "0 1\n",
      "1 1\n",
      "2 2\n",
      "3 6\n",
      "4 24\n",
      "5 120\n",
      "6 720\n",
      "7 5040\n",
      "8 40320\n",
      "9 362880\n"
     ]
    }
   ],
   "source": [
    "def silnia(n: int):\n",
    "    s = 1\n",
    "    for i in range(2, n+1):\n",
    "        s *= i\n",
    "    return s\n",
    "\n",
    "for i in range(10):\n",
    "    print(i, silnia(i))"
   ]
  },
  {
   "cell_type": "markdown",
   "id": "tracked-geology",
   "metadata": {},
   "source": [
    "### Fibonacci"
   ]
  },
  {
   "cell_type": "code",
   "execution_count": 42,
   "id": "hazardous-popularity",
   "metadata": {},
   "outputs": [
    {
     "name": "stdout",
     "output_type": "stream",
     "text": [
      "1 1\n",
      "2 1\n",
      "3 2\n",
      "4 3\n",
      "5 5\n",
      "6 8\n",
      "7 13\n",
      "8 21\n",
      "9 34\n"
     ]
    }
   ],
   "source": [
    "def fib(n):\n",
    "    a,b = 1, 1\n",
    "    for i in range(n-2):\n",
    "        a, b = b, a+b\n",
    "    return b\n",
    "\n",
    "for i in range(1, 10):\n",
    "    print(i, fib(i))"
   ]
  },
  {
   "cell_type": "code",
   "execution_count": null,
   "id": "accepted-stadium",
   "metadata": {},
   "outputs": [],
   "source": []
  }
 ],
 "metadata": {
  "kernelspec": {
   "display_name": "Python 3",
   "language": "python",
   "name": "python3"
  },
  "language_info": {
   "codemirror_mode": {
    "name": "ipython",
    "version": 3
   },
   "file_extension": ".py",
   "mimetype": "text/x-python",
   "name": "python",
   "nbconvert_exporter": "python",
   "pygments_lexer": "ipython3",
   "version": "3.9.5"
  }
 },
 "nbformat": 4,
 "nbformat_minor": 5
}
