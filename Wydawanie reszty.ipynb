{
 "cells": [
  {
   "cell_type": "code",
   "execution_count": 1,
   "id": "normal-glass",
   "metadata": {},
   "outputs": [],
   "source": [
    "nominals = [500, 200, 100, 50, 20, 10, 5, 2, 1, 0.5, 0.2, 0.1, 0.05, 0.02, 0.01]"
   ]
  },
  {
   "cell_type": "code",
   "execution_count": 2,
   "id": "serial-colors",
   "metadata": {},
   "outputs": [],
   "source": [
    "def getChange(change: float):\n",
    "    n = []\n",
    "    tmp_change = change\n",
    "    while tmp_change > 0:\n",
    "        for nominal in nominals:\n",
    "            while (tmp_change - nominal) >= 0:\n",
    "                tmp_change -= nominal\n",
    "                tmp_change = round(tmp_change, 2)\n",
    "\n",
    "                n.append(nominal)\n",
    "                break\n",
    "    return n"
   ]
  },
  {
   "cell_type": "code",
   "execution_count": 3,
   "id": "macro-opening",
   "metadata": {},
   "outputs": [
    {
     "name": "stdout",
     "output_type": "stream",
     "text": [
      "[0.5, 0.2, 0.05]\n"
     ]
    }
   ],
   "source": [
    "price = 1.25\n",
    "money = 2\n",
    "\n",
    "change = money - price\n",
    "print(getChange(change))"
   ]
  }
 ],
 "metadata": {
  "kernelspec": {
   "display_name": "Python 3",
   "language": "python",
   "name": "python3"
  },
  "language_info": {
   "codemirror_mode": {
    "name": "ipython",
    "version": 3
   },
   "file_extension": ".py",
   "mimetype": "text/x-python",
   "name": "python",
   "nbconvert_exporter": "python",
   "pygments_lexer": "ipython3",
   "version": "3.9.2"
  }
 },
 "nbformat": 4,
 "nbformat_minor": 5
}
